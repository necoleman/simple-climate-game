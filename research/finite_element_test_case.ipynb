{
 "cells": [
  {
   "cell_type": "markdown",
   "id": "eb5648d6-2e6f-4d8a-9a23-3b4d301e06cd",
   "metadata": {},
   "source": [
    "# Finite elements\n",
    "\n",
    "This notebook explores setting up finite elements and messing with them"
   ]
  },
  {
   "cell_type": "markdown",
   "id": "bdaf6f2c-e487-4225-9874-a8441aa2f2b3",
   "metadata": {},
   "source": [
    "## Convecting incompressible fluid flow"
   ]
  },
  {
   "cell_type": "code",
   "execution_count": 1,
   "id": "3da1f933-52ed-4256-8ed4-a11c6c067415",
   "metadata": {},
   "outputs": [],
   "source": [
    "from dataclasses import dataclass\n",
    "\n",
    "import numpy as np\n",
    "import triangle as tr\n",
    "\n",
    "import matplotlib.pyplot as plt\n",
    "import matplotlib.tri as mtri"
   ]
  },
  {
   "cell_type": "code",
   "execution_count": 2,
   "id": "534640b9-0461-4eb9-8076-854500621f23",
   "metadata": {},
   "outputs": [],
   "source": [
    "from scipy import sparse, linalg as lin\n",
    "import itertools"
   ]
  },
  {
   "cell_type": "code",
   "execution_count": 3,
   "id": "71ffb92b-6f97-4e1b-98a6-a882112a2372",
   "metadata": {},
   "outputs": [],
   "source": [
    "from matplotlib.colors import Normalize as mpl_normalize\n"
   ]
  },
  {
   "cell_type": "code",
   "execution_count": 4,
   "id": "2f6dbcfc-95f8-4186-a3e7-e8081d157102",
   "metadata": {},
   "outputs": [],
   "source": [
    "def plot_triangulation(ax, B, **kwargs):\n",
    "    ax.triplot(\n",
    "        B[\"vertices\"][:, 0],\n",
    "        B[\"vertices\"][:, 1],\n",
    "        B[\"triangles\"],\n",
    "        **kwargs\n",
    "    )\n",
    "    ax.scatter(B[\"vertices\"][:, 0],\n",
    "               B[\"vertices\"][:, 1],\n",
    "              c=\"k\",\n",
    "              s=1)\n",
    "    ax.set_aspect(\"equal\")\n",
    "    return ax"
   ]
  },
  {
   "cell_type": "code",
   "execution_count": 5,
   "id": "cdd4155f-1f8c-4e3d-a6d6-bc1deadfa3d9",
   "metadata": {},
   "outputs": [],
   "source": [
    "def plot_function(ax, function, triangulation, **kwargs):\n",
    "    ax.tricontourf(\n",
    "        triangulation[\"vertices\"][:, 0],\n",
    "        triangulation[\"vertices\"][:, 1],\n",
    "        triangulation[\"triangles\"],\n",
    "        function,\n",
    "        **kwargs\n",
    "    )\n",
    "    ax.set_aspect(\"equal\")\n",
    "    return"
   ]
  },
  {
   "cell_type": "code",
   "execution_count": 6,
   "id": "be68e5a3-6495-4fb2-95d8-194ef6851763",
   "metadata": {},
   "outputs": [],
   "source": [
    "# https://matplotlib.org/stable/gallery/mplot3d/trisurf3d_2.html\n",
    "\n",
    "def plot_graph(function, triangulation, **kwargs):\n",
    "    fig = plt.figure(figsize=plt.figaspect(0.4))\n",
    "\n",
    "    ax = fig.add_subplot(1, 2, 1, projection=\"3d\")\n",
    "\n",
    "    ax.plot_trisurf(\n",
    "        mtri.Triangulation(\n",
    "            x=triangulation[\"vertices\"][:,0],\n",
    "            y=triangulation[\"vertices\"][:,1],\n",
    "            triangles=triangulation[\"triangles\"]\n",
    "        ),\n",
    "        function,\n",
    "        **kwargs\n",
    "    )\n",
    "    plt.show()"
   ]
  },
  {
   "cell_type": "code",
   "execution_count": 7,
   "id": "ad9085bd-e5e2-4ba6-a25e-4121d694d9e6",
   "metadata": {},
   "outputs": [],
   "source": [
    "def rot(v):\n",
    "    \"\"\"90 degree cw rotation of vector\n",
    "    \"\"\"\n",
    "    return np.array([[0, 1], [-1, 0]]).dot(v)\n"
   ]
  },
  {
   "cell_type": "code",
   "execution_count": null,
   "id": "8088d86e-e772-4064-bc5e-6eed29768d0f",
   "metadata": {},
   "outputs": [],
   "source": [
    "def operators( tri ):\n",
    "    \"\"\"Assemble Laplacian matrix L associated to geometry tri\n",
    "\n",
    "    L_{ij} = \\sum_{faces adj p_i, p_j} -\\langle p_j - p_k, p_i - p_k\\rangle / 4A^2\n",
    "    \n",
    "    Accomplish by summing over faces\n",
    "    \"\"\"\n",
    "\n",
    "    vertices = tri[\"vertices\"] # shape = (N, 2)\n",
    "    faces = tri[\"triangles\"] # shape = (N, 3) and each col is an array of ints\n",
    "    \n",
    "    num_vert = vertices.shape[0]\n",
    "    num_faces = faces.shape[0]\n",
    "\n",
    "    l2_ind_I = []\n",
    "    l2_ind_J = []\n",
    "    l2_values = []\n",
    "    \n",
    "    lapl_ind_I = []\n",
    "    lapl_ind_J = []\n",
    "    lapl_values = []\n",
    "    \n",
    "    grad_ind_I = []\n",
    "    grad_ind_J = []\n",
    "    grad_ind_K = []\n",
    "    grad_values = []\n",
    "\n",
    "    div_ind_I = []\n",
    "    div_ind_J = []\n",
    "    div_ind_K = []\n",
    "    div_values = []\n",
    "#     l2_inner_product = np.zeros( (num_vert, num_vert) )\n",
    "#     laplacian = np.zeros( (num_vert, num_vert) )\n",
    "    \n",
    "#     grad = np.zeros( (2, num_faces, num_vert) )\n",
    "#     div = np.zeros( (num_vert, num_faces, 2) )    \n",
    "    \n",
    "    for face_ind in range( num_faces ):\n",
    "        \n",
    "        face = faces[ face_ind, : ]\n",
    "        \n",
    "        ind = {\n",
    "            face[0]: 0,\n",
    "            face[1]: 1,\n",
    "            face[2]: 2\n",
    "        }\n",
    "        \n",
    "        # vertices of the face\n",
    "        v0 = vertices[ face[0], : ]\n",
    "        v1 = vertices[ face[1], : ]\n",
    "        v2 = vertices[ face[2], : ]\n",
    "        \n",
    "        # area of the face\n",
    "        area = np.abs( np.cross( v2 - v0, v1 - v0 ) )/ 2.0\n",
    "\n",
    "        # barycentric embedding\n",
    "        A = np.array([\n",
    "            [ v0[0], v1[0], v2[0] ],\n",
    "            [ v0[1], v1[1], v2[1] ],\n",
    "            [ 1.,    1.,    1.    ]\n",
    "        ])\n",
    "        \n",
    "        # invert to find the gradients of the element functions\n",
    "        B = lin.inv( A )\n",
    "        # the gradient of jth element function phi_j is \n",
    "        # B[ j, :2 ]\n",
    "        \n",
    "        for i, j in itertools.product( face, face ):\n",
    "            \n",
    "            loc_i = ind[i]\n",
    "            loc_j = ind[j]\n",
    "            \n",
    "            lapl_ind.append(\n",
    "            \n",
    "            laplacian[i, j] += area * B[ loc_i, :2 ].dot( B[ loc_j, :2 ] )\n",
    "                                                                 \n",
    "            if i == j:\n",
    "                l2_inner_product[i, j] += area / 6\n",
    "            else:\n",
    "                l2_inner_product[i, j] += area / 12\n",
    "              \n",
    "        for k in range(len(face)):\n",
    "            idx = face[k]\n",
    "            grad[ :, face_ind, idx ] += B[ k, :2 ]\n",
    "            div[ idx, face_ind, : ] += - B[ k, :2 ].T / lin.norm( B[k, :2] )\n",
    "    return {\n",
    "        \"inner_product\": l2_inner_product,\n",
    "        \"gradient\": grad,\n",
    "        \"divergence\": div,\n",
    "        \"laplacian\": laplacian\n",
    "    }"
   ]
  },
  {
   "cell_type": "code",
   "execution_count": null,
   "id": "9dd0ad5f-5786-4173-a252-f464b7967083",
   "metadata": {},
   "outputs": [],
   "source": [
    "example = tr.triangulate({\n",
    "    \"vertices\": np.array([[0, 0], [1, 0], [1, 1], [0, 1]])\n",
    "}, \"qa2\")"
   ]
  },
  {
   "cell_type": "code",
   "execution_count": null,
   "id": "73139814-8c22-415b-8923-5356b8194a88",
   "metadata": {},
   "outputs": [],
   "source": [
    "example[\"vertices\"].shape"
   ]
  },
  {
   "cell_type": "code",
   "execution_count": null,
   "id": "ce9c1861-08b2-4d23-814d-7caad1b10df7",
   "metadata": {},
   "outputs": [],
   "source": [
    "example[\"vertices\"][ 18, : ]"
   ]
  },
  {
   "cell_type": "code",
   "execution_count": null,
   "id": "50a911cf-e50f-4442-b411-e988f3cbe4d8",
   "metadata": {},
   "outputs": [],
   "source": [
    "example[\"triangles\"].shape"
   ]
  },
  {
   "cell_type": "code",
   "execution_count": null,
   "id": "1527ade4-227e-48b4-9d75-47d6fbb85189",
   "metadata": {},
   "outputs": [],
   "source": [
    "example[\"triangles\"][ 1127, : ]"
   ]
  },
  {
   "cell_type": "code",
   "execution_count": null,
   "id": "3282b8fc-7ac4-4414-b367-5aa52ab70cdd",
   "metadata": {},
   "outputs": [],
   "source": [
    "ops = operators(example)\n",
    "\n",
    "M = ops[\"inner_product\"]\n",
    "grad = ops[\"gradient\"]\n",
    "div = ops[\"divergence\"]\n",
    "L = ops[\"laplacian\"]"
   ]
  },
  {
   "cell_type": "code",
   "execution_count": null,
   "id": "e8f7bc95-d936-461f-b97c-d613d7515f6e",
   "metadata": {},
   "outputs": [],
   "source": [
    "def height(x, y):\n",
    "    height_m = 10\\\n",
    "        + ( 2500 / (1 + np.exp( -0.2 * (y - 25) ) )\\\n",
    "            + np.random.normal( 0, 50 )\\\n",
    "          ) * (1 - 0.2*np.sin(x / 5)**2)\n",
    "    height_km = height_m / 1000.\n",
    "    return height_km"
   ]
  },
  {
   "cell_type": "code",
   "execution_count": null,
   "id": "5593616a-ac67-42ab-ba47-3ae89cb8f7f7",
   "metadata": {},
   "outputs": [],
   "source": [
    "h = height( example[\"vertices\"][:,0], example[\"vertices\"][:,1] )"
   ]
  },
  {
   "cell_type": "code",
   "execution_count": null,
   "id": "1f90e6e5-e3c3-49bc-bc7a-45cc1e86e107",
   "metadata": {},
   "outputs": [],
   "source": [
    "fig, ax = plt.subplots()\n",
    "plot_function( ax, h, example, cmap=\"terrain\")\n",
    "plot_triangulation( ax, example, c=\"k\", lw=1 )\n",
    "fig.set_size_inches(12, 12)\n",
    "plt.show()"
   ]
  },
  {
   "cell_type": "code",
   "execution_count": null,
   "id": "1102b1c7-9e50-4230-a68d-fd9e07fff84f",
   "metadata": {},
   "outputs": [],
   "source": [
    "plot_graph(h, example, cmap=\"terrain\")"
   ]
  },
  {
   "cell_type": "code",
   "execution_count": null,
   "id": "6ebd5330-5bde-40f5-9eb9-857d09b16a56",
   "metadata": {},
   "outputs": [],
   "source": [
    "laplacian_of_height = np.dot(L, h)\n",
    "plot_graph(laplacian_of_height, example, cmap=\"copper\")"
   ]
  },
  {
   "cell_type": "code",
   "execution_count": null,
   "id": "720c090f-942c-490a-ac5b-c248fe77cbce",
   "metadata": {},
   "outputs": [],
   "source": [
    "gradient_of_height = np.dot(grad, h)"
   ]
  },
  {
   "cell_type": "code",
   "execution_count": null,
   "id": "40ea67a1-d38f-4e82-9046-62ea179bf1ed",
   "metadata": {},
   "outputs": [],
   "source": [
    "# calculate triangular face centroids\n",
    "face_centers = np.zeros( (2, example[\"triangles\"].shape[0]) )\n",
    "\n",
    "for f_ind in range(len(example[\"triangles\"])):\n",
    "    face = example[\"triangles\"][ f_ind, : ]\n",
    "    v0 = example[\"vertices\"][ face[0], : ]\n",
    "    v1 = example[\"vertices\"][ face[1], : ]\n",
    "    v2 = example[\"vertices\"][ face[2], : ]\n",
    "    \n",
    "    center = np.average( np.array( [v0, v1, v2] ), axis=0 )\n",
    "\n",
    "    face_centers[ :, f_ind ] += center"
   ]
  },
  {
   "cell_type": "code",
   "execution_count": null,
   "id": "5024f0fb-2a84-482a-9464-059d593046ea",
   "metadata": {},
   "outputs": [],
   "source": [
    "x = face_centers[0, :]\n",
    "y = face_centers[1, :]\n",
    "u = gradient_of_height[0, :]\n",
    "v = gradient_of_height[1, :]\n",
    "\n",
    "fig, ax = plt.subplots()\n",
    "plot_function( ax, h, example, cmap=\"terrain\")\n",
    "# plot_triangulation( ax, example, c=\"k\", lw=1 )\n",
    "ax.quiver( x, y, u, v )\n",
    "fig.set_size_inches(12, 12)\n",
    "plt.show()"
   ]
  },
  {
   "cell_type": "code",
   "execution_count": null,
   "id": "fc23e12c-4470-4cb1-aab6-647689a412aa",
   "metadata": {},
   "outputs": [],
   "source": [
    "gradient_of_height.shape"
   ]
  },
  {
   "cell_type": "code",
   "execution_count": null,
   "id": "608967a3-e541-457c-b1da-9d34220789c7",
   "metadata": {},
   "outputs": [],
   "source": [
    "div.shape"
   ]
  },
  {
   "cell_type": "code",
   "execution_count": null,
   "id": "ae0b78d5-b9d5-427d-bf80-2d16039ce51f",
   "metadata": {},
   "outputs": [],
   "source": [
    "divgrad_of_height = div[ :, :, 0].dot( gradient_of_height[0, :] ) + div[ :, :, 1 ].dot( gradient_of_height[1, :])"
   ]
  },
  {
   "cell_type": "code",
   "execution_count": null,
   "id": "862502a0-ab71-483f-8f9c-a14cdf5e57c1",
   "metadata": {},
   "outputs": [],
   "source": [
    "fig, (ax0, ax1) = plt.subplots( ncols=2 )\n",
    "\n",
    "plot_function( ax0, laplacian_of_height, example, cmap=\"terrain\")\n",
    "plot_triangulation( ax0, example, c=\"k\", lw=1 )\n",
    "\n",
    "plot_function( ax1, divgrad_of_height, example, cmap=\"terrain\")\n",
    "plot_triangulation( ax1, example, c=\"k\", lw=1 )\n",
    "\n",
    "fig.set_size_inches(12, 12)\n",
    "plt.show()"
   ]
  },
  {
   "cell_type": "markdown",
   "id": "75dcfd71-e0c6-4d35-b29d-bc4dd8a91fc5",
   "metadata": {},
   "source": [
    "# Testing on the Euler equation\n",
    "\n",
    "https://en.wikipedia.org/wiki/Euler_equations_(fluid_dynamics)#Incompressible_Euler_equations_with_constant_and_uniform_density\n",
    "\n",
    "## State\n",
    "\n",
    "velocity\n"
   ]
  },
  {
   "cell_type": "code",
   "execution_count": null,
   "id": "4b762c8f-0656-43e7-bd05-425f4ba0df03",
   "metadata": {},
   "outputs": [],
   "source": [
    "pipe = tr.triangulate({\n",
    "    # \"vertices\": np.array([[0, 0], [2, 0], [2, 1], [0, 1]])   # square\n",
    "    \"vertices\": np.array( [ [np.cos(th), np.sin(th)] for th in np.arange(0, 2*np.pi, 0.1) ] )\n",
    "}, \"qa0.0003\")\n",
    "\n",
    "num_vert = pipe[\"vertices\"].shape[0]\n",
    "num_faces = pipe[\"triangles\"].shape[0]\n",
    "\n",
    "# calculate triangular face centroids\n",
    "face_centers = np.zeros( (2, pipe[\"triangles\"].shape[0]) )\n",
    "\n",
    "for f_ind in range(len(pipe[\"triangles\"])):\n",
    "    face = pipe[\"triangles\"][ f_ind, : ]\n",
    "    v0 = pipe[\"vertices\"][ face[0], : ]\n",
    "    v1 = pipe[\"vertices\"][ face[1], : ]\n",
    "    v2 = pipe[\"vertices\"][ face[2], : ]\n",
    "    \n",
    "    center = np.average( np.array( [v0, v1, v2] ), axis=0 )\n",
    "\n",
    "    face_centers[ :, f_ind ] += center\n",
    "\n",
    "ops = operators( pipe )\n",
    "\n",
    "M = ops[\"inner_product\"]\n",
    "grad = ops[\"gradient\"]\n",
    "div = ops[\"divergence\"]\n",
    "L = ops[\"laplacian\"]"
   ]
  },
  {
   "cell_type": "code",
   "execution_count": null,
   "id": "af1a5f09-6303-4bb8-b232-ed1af7882ffa",
   "metadata": {},
   "outputs": [],
   "source": [
    "fig, ax = plt.subplots()\n",
    "plot_triangulation( ax, pipe, c=\"k\", lw=1 )\n",
    "fig.set_size_inches(6, 6)\n",
    "plt.show()"
   ]
  },
  {
   "cell_type": "code",
   "execution_count": null,
   "id": "7f728a60-a138-4994-b4bf-1ee6f753f947",
   "metadata": {},
   "outputs": [],
   "source": [
    "def vertex_mean_vf( u ):\n",
    "    \"\"\"Calculate the mean at each vertex of a given vector field\n",
    "    this is done by averaging the values over each face weighted by the angle of the vertex in that face\n",
    "    \"\"\"    \n",
    "    umean = np.zeros( (2, num_vert) )\n",
    "    for j in range(num_faces):\n",
    "        face = pipe[\"triangles\"][ j, : ]\n",
    "        val = u[ :, j ]\n",
    "        v0 = pipe[\"vertices\"][ face[0], : ]\n",
    "        v1 = pipe[\"vertices\"][ face[1], : ]\n",
    "        v2 = pipe[\"vertices\"][ face[2], : ]\n",
    "        \n",
    "        theta0 = np.arccos( np.dot( v2 - v0, v1 - v0 ) / ( lin.norm( v2 - v0 )*lin.norm( v1 - v0 ) ) )\n",
    "        theta1 = np.arccos( np.dot( v2 - v0, v1 - v0 ) / ( lin.norm( v2 - v0 )*lin.norm( v1 - v0 ) ) )\n",
    "        theta2 = np.arccos( np.dot( v2 - v0, v1 - v0 ) / ( lin.norm( v2 - v0 )*lin.norm( v1 - v0 ) ) )\n",
    "        \n",
    "        umean[:, face[0]] = val * theta0 / (2*np.pi)\n",
    "        umean[:, face[1]] = val * theta1 / (2*np.pi)\n",
    "        umean[:, face[2]] = val * theta2 / (2*np.pi)\n",
    "        \n",
    "    return umean\n",
    "\n",
    "def vertex_mean_func( u ):\n",
    "    \"\"\"Calculate the mean at each vertex of a given vector field\n",
    "    this is done by averaging the values over each face weighted by the angle of the vertex in that face\n",
    "    \"\"\"    \n",
    "    umean = np.zeros( num_vert )\n",
    "    for j in range(num_faces):\n",
    "        face = pipe[\"triangles\"][ j, : ]\n",
    "        val = u[ j ]\n",
    "        v0 = pipe[\"vertices\"][ face[0], : ]\n",
    "        v1 = pipe[\"vertices\"][ face[1], : ]\n",
    "        v2 = pipe[\"vertices\"][ face[2], : ]\n",
    "        \n",
    "        theta0 = np.arccos( np.dot( v2 - v0, v1 - v0 ) / ( lin.norm( v2 - v0 )*lin.norm( v1 - v0 ) ) )\n",
    "        theta1 = np.arccos( np.dot( v2 - v0, v1 - v0 ) / ( lin.norm( v2 - v0 )*lin.norm( v1 - v0 ) ) )\n",
    "        theta2 = np.arccos( np.dot( v2 - v0, v1 - v0 ) / ( lin.norm( v2 - v0 )*lin.norm( v1 - v0 ) ) )\n",
    "        \n",
    "        umean[face[0]] = val * theta0 / (2*np.pi)\n",
    "        umean[face[1]] = val * theta1 / (2*np.pi)\n",
    "        umean[face[2]] = val * theta2 / (2*np.pi)\n",
    "        \n",
    "    return umean\n",
    "\n",
    "def face_mean( u ):\n",
    "    \"\"\"Calculate mean of function on each face by averaging values over each face\n",
    "    \"\"\"\n",
    "    pass"
   ]
  },
  {
   "cell_type": "code",
   "execution_count": null,
   "id": "392290f7-d71a-426b-80df-54bed144f03c",
   "metadata": {},
   "outputs": [],
   "source": [
    "def take_divergence( u ):\n",
    "    \"\"\"Take divergence of vector field u\n",
    "    \"\"\"\n",
    "    return np.dot( div[ :, :, 0], u[0, :] ) + np.dot( div[ :, :, 1], u[1, :] )"
   ]
  },
  {
   "cell_type": "code",
   "execution_count": null,
   "id": "05b71772-69e4-4864-b48f-8066c15ba614",
   "metadata": {},
   "outputs": [],
   "source": [
    "def state_update( dt, velocity, pressure, gravity ):\n",
    "    \n",
    "    vel_at_vert = vertex_mean_vf(velocity)\n",
    "    \n",
    "    vav_x = vel_at_vert[ 0, : ]\n",
    "    vav_y = vel_at_vert[ 1, : ]\n",
    "    \n",
    "    gradvav_x = np.dot( grad, vav_x )\n",
    "    gradvav_y = np.dot( grad, vav_y )\n",
    "    \n",
    "    cov_deriv_velocity = np.array( [ np.sum(velocity[ 0, : ] * gradvav_x, axis=0),\n",
    "                                     np.sum(velocity[ 1, : ] * gradvav_y, axis=0) ] )\n",
    "    \n",
    "    pressure = lin.solve( take_divergence( grad ), take_divergence(cov_deriv_velocity) )\n",
    "    \n",
    "    dvelocity = - np.dot( grad, pressure ) + gravity - cov_deriv_velocity\n",
    "    \n",
    "    new_velocity = velocity + dt * dvelocity\n",
    "    \n",
    "    return {\n",
    "        \"velocity\": new_velocity,\n",
    "        \"pressure\": pressure,\n",
    "    }"
   ]
  },
  {
   "cell_type": "code",
   "execution_count": null,
   "id": "c95d770a-b900-4e15-8257-e5c37e5e120b",
   "metadata": {},
   "outputs": [],
   "source": [
    "import imageio"
   ]
  },
  {
   "cell_type": "code",
   "execution_count": null,
   "id": "0fb30a00-d4b4-414b-8746-fce6a36b48a7",
   "metadata": {},
   "outputs": [],
   "source": [
    "# TODO: animate via matplotlib\n",
    "# https://matplotlib.org/stable/api/animation_api.html\n",
    "# double pendulum example: \n",
    "#     https://matplotlib.org/stable/gallery/animation/double_pendulum.html"
   ]
  },
  {
   "cell_type": "code",
   "execution_count": null,
   "id": "7292a4d8-449c-4fce-90d2-b3e7a8a2f8a8",
   "metadata": {},
   "outputs": [],
   "source": [
    "# Alternatively:\n",
    "# https://towardsdatascience.com/basics-of-gifs-with-pythons-matplotlib-54dd544b6f30"
   ]
  },
  {
   "cell_type": "code",
   "execution_count": null,
   "id": "0741c8f0-955e-4398-9dae-4b331a181a43",
   "metadata": {},
   "outputs": [],
   "source": [
    "velocity = np.zeros( (2, num_faces) )\n",
    "# velocity = np.array([ -face_centers[1, :], face_centers[0, :] ])\n",
    "gravity = np.zeros( (2, num_faces) )\n",
    "gravity[ 1, : ] = -9.8 * np.ones( num_faces )\n",
    "pressure = np.ones( num_vert ) # this is specific thermodynamic work which is the same as mechanical pressure\n",
    "\n",
    "x = face_centers[0, :]\n",
    "y = face_centers[1, :]"
   ]
  },
  {
   "cell_type": "code",
   "execution_count": null,
   "id": "e2fcfa07-9bdd-4eb8-9dba-782f6ba04432",
   "metadata": {},
   "outputs": [],
   "source": [
    "!mkdir tmp"
   ]
  },
  {
   "cell_type": "code",
   "execution_count": null,
   "id": "bdc4fb19-0b24-4bc2-a49e-acf88228a618",
   "metadata": {},
   "outputs": [],
   "source": [
    "filenames = []\n",
    "for t in range(100):\n",
    "    try:\n",
    "        next_state = state_update( 0.005,  velocity, pressure, gravity )\n",
    "        velocity = next_state[\"velocity\"]\n",
    "        pressure = next_state[\"pressure\"]\n",
    "    except Exception as err:\n",
    "        print(\"Oh no!\")\n",
    "        print(err)\n",
    "        print(\"Breaking loop now! x_x\")\n",
    "        break\n",
    "\n",
    "    u = velocity[0, :]\n",
    "    v = velocity[1, :]\n",
    "\n",
    "    div_velocity = np.dot( div[ :, :, 0], velocity[0, :] ) + np.dot( div[ :, :, 1], velocity[1, :] )\n",
    "\n",
    "    fig, ax = plt.subplots()\n",
    "\n",
    "    # plot_triangulation( ax, pipe, c=\"k\", lw=1 )\n",
    "    ax.quiver( x, y, u, v )\n",
    "    ax.set_aspect(\"equal\")\n",
    "    fig.set_size_inches(6, 6)\n",
    "\n",
    "    # https://stackoverflow.com/questions/63754046/when-adding-colorbar-for-a-matplotlib-tricontourf-typeerror-you-must-first-se\n",
    "    # plot_function( ax, pressure, pipe, cmap=\"terrain\")\n",
    "    # norm = mpl_normalize(vmin=np.min(div_velocity), vmax=np.max(div_velocity))\n",
    "    # fig.colorbar( plt.cm.ScalarMappable(cmap=\"terrain\", norm=norm ) )\n",
    "\n",
    "    filename = f\"tmp/{str(t).zfill(2)}.png\"\n",
    "    filenames.append(filename)\n",
    "    fig.savefig( filename )\n",
    "    if t % 10 == 0:\n",
    "        print(f\"Saved {filename}\")\n",
    "    \n",
    "    plt.close()\n",
    "    # plt.show()"
   ]
  },
  {
   "cell_type": "code",
   "execution_count": null,
   "id": "4439738b-fbf8-486c-8588-0f033149aa96",
   "metadata": {},
   "outputs": [],
   "source": [
    "with imageio.get_writer(\"mesh_fineness_003.gif\", mode=\"I\") as writer:\n",
    "    for filename in filenames:\n",
    "        image = imageio.imread(filename)\n",
    "        writer.append_data(image)"
   ]
  },
  {
   "cell_type": "code",
   "execution_count": null,
   "id": "731fbbcd-180e-421c-8a90-2593e771b922",
   "metadata": {},
   "outputs": [],
   "source": [
    "! rm -rf tmp"
   ]
  },
  {
   "cell_type": "code",
   "execution_count": null,
   "id": "2d8093f0-71aa-4ee4-8493-a48726dd94a8",
   "metadata": {},
   "outputs": [],
   "source": []
  }
 ],
 "metadata": {
  "kernelspec": {
   "display_name": "Python 3 (ipykernel)",
   "language": "python",
   "name": "python3"
  },
  "language_info": {
   "codemirror_mode": {
    "name": "ipython",
    "version": 3
   },
   "file_extension": ".py",
   "mimetype": "text/x-python",
   "name": "python",
   "nbconvert_exporter": "python",
   "pygments_lexer": "ipython3",
   "version": "3.8.10"
  }
 },
 "nbformat": 4,
 "nbformat_minor": 5
}
